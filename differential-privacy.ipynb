{
 "cells": [
  {
   "cell_type": "code",
   "execution_count": null,
   "metadata": {},
   "outputs": [],
   "source": [
    "import pandas as pd\n",
    "import numpy as np\n",
    "import matplotlib.pyplot as plt\n",
    "\n",
    "plt.style.use('seaborn-whitegrid')"
   ]
  },
  {
   "cell_type": "code",
   "execution_count": null,
   "metadata": {},
   "outputs": [],
   "source": [
    "!wget \"https://storage.googleapis.com/inspirit-ai-data-bucket-1/Data/Deep%20Dives/Advanced%20Topics%20in%20AI/Sessions%206%20-%2010%20(Projects)/Project%20-%20Differential%20Privacy/adult_with_pii.csv\"\n",
    "adult = pd.read_csv(\"adult_with_pii.csv\")"
   ]
  },
  {
   "cell_type": "code",
   "execution_count": null,
   "metadata": {},
   "outputs": [],
   "source": [
    "adult.head()\n",
    "adult_pii = adult[['Name', 'SSN', 'DOB', 'Zip']]\n",
    "\n",
    "adult_data = adult.copy()\n",
    "\n",
    "adult_data = adult_data.drop(columns=['Name', 'SSN'])\n",
    "\n",
    "adult_data.head(1)"
   ]
  },
  {
   "cell_type": "code",
   "execution_count": null,
   "metadata": {},
   "outputs": [],
   "source": [
    "karries_row = adult_pii[adult_pii['Name'] == 'Karrie Trusslove']\n",
    "pd.merge(karries_row, adult_data, left_on=['DOB', 'Zip'], right_on=['DOB', 'Zip'])"
   ]
  },
  {
   "cell_type": "code",
   "execution_count": null,
   "metadata": {},
   "outputs": [],
   "source": [
    "pd.merge(karries_row, adult_data, left_on=['Zip'], right_on=['Zip'])\n",
    "pd.merge(karries_row, adult_data, left_on=['DOB'], right_on=['DOB'])"
   ]
  },
  {
   "cell_type": "code",
   "execution_count": null,
   "metadata": {},
   "outputs": [],
   "source": [
    "adult_pii['DOB'].value_counts() .hist()\n",
    "plt.xlabel('Number of Dates of Birth')\n",
    "plt.ylabel('Number of Occurrences')\n",
    "\n",
    "adult_pii['Zip'].value_counts().hist()\n",
    "plt.xlabel('Number of ZIP Codes')\n",
    "plt.ylabel('Number of Occurrences')"
   ]
  },
  {
   "cell_type": "code",
   "execution_count": null,
   "metadata": {},
   "outputs": [],
   "source": [
    "attack = pd.merge(adult_pii, adult_data, left_on=['DOB', 'Zip'], right_on=['DOB', 'Zip'])\n",
    "attack['Name'].value_counts().hist()\n",
    "\n",
    "adult[adult['Hours per week'] <= 30].shape[0]"
   ]
  },
  {
   "cell_type": "code",
   "execution_count": null,
   "metadata": {},
   "outputs": [],
   "source": [
    "sensitivity = 1\n",
    "epsilon = 0.1\n",
    "\n",
    "adult[adult['Age'] >= 40].shape[0] + np.random.laplace(loc=0, scale=sensitivity/epsilon)\n",
    "\n",
    "karries_row = adult[adult['Name'] == 'Karrie Trusslove']\n",
    "\n",
    "karries_row[karries_row['Target'] == '<=50K'].shape[0]\n",
    "\n",
    "epsilon = 0.1\n",
    "\n",
    "karries_row = adult[adult['Name'] == 'Karrie Trusslove']\n",
    "\n",
    "karries_row[karries_row['Target'] == '<=50K'].shape[0] + \\\n",
    "  np.random.laplace(loc=0, scale=sensitivity/epsilon)"
   ]
  },
  {
   "cell_type": "code",
   "execution_count": null,
   "metadata": {},
   "outputs": [],
   "source": [
    "epsilon1 = 1\n",
    "epsilon2 = 1\n",
    "epsilon_total = 2\n",
    "\n",
    "def F1():\n",
    "    return np.random.laplace(loc=0, scale=1/epsilon1)\n",
    "\n",
    "def F2():\n",
    "    return np.random.laplace(loc=0, scale=1/epsilon2)\n",
    "\n",
    "def F3():\n",
    "    return np.random.laplace(loc=0, scale=1/epsilon_total)\n",
    "\n",
    "def F_combined():\n",
    "    return (F1() + F2()) / 2"
   ]
  },
  {
   "cell_type": "code",
   "execution_count": null,
   "metadata": {},
   "outputs": [],
   "source": [
    "plt.hist([F1() for i in range(1000)], bins=50, label='F1')\n",
    "plt.hist([F2() for i in range(1000)], bins=50, alpha=.7, label='F2')\n",
    "plt.legend()"
   ]
  },
  {
   "cell_type": "code",
   "execution_count": null,
   "metadata": {},
   "outputs": [],
   "source": [
    "plt.hist([F1() for i in range(1000)], bins=50, label='F1')\n",
    "plt.hist([F3() for i in range(1000)], bins=50, alpha=.7, label='F3')\n",
    "plt.legend()"
   ]
  },
  {
   "cell_type": "code",
   "execution_count": null,
   "metadata": {},
   "outputs": [],
   "source": [
    "plt.hist([F3() for i in range(1000)], bins=50, label='F3')\n",
    "plt.hist([F_combined() for i in range(1000)], bins=50, alpha=.7, label='F_combined')\n",
    "plt.legend()"
   ]
  },
  {
   "cell_type": "code",
   "execution_count": null,
   "metadata": {},
   "outputs": [],
   "source": [
    "adult['Education'].value_counts().to_frame().head(5)\n",
    "f = lambda x: x + np.random.laplace(loc=0, scale=1/epsilon)\n",
    "s = adult['Education'].value_counts().apply(f)\n",
    "s.to_frame().head(5)\n",
    "\n",
    "pd.crosstab(adult['Education'], adult['Sex']).head(5)"
   ]
  },
  {
   "cell_type": "code",
   "execution_count": null,
   "metadata": {},
   "outputs": [],
   "source": [
    "ct = pd.crosstab(adult['Education'], adult['Sex'])\n",
    "f = lambda x: x + np.random.laplace(loc=0, scale=1/epsilon)\n",
    "ct.applymap(f).head(5)"
   ]
  }
 ],
 "metadata": {
  "language_info": {
   "name": "python"
  },
  "orig_nbformat": 4
 },
 "nbformat": 4,
 "nbformat_minor": 2
}
